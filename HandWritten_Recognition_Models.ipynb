{
  "nbformat": 4,
  "nbformat_minor": 0,
  "metadata": {
    "colab": {
      "provenance": [],
      "collapsed_sections": [
        "7RTo03Bej2_C",
        "bq1Wq3o-k5ow",
        "VgsBiC47pGRl",
        "DpEK0Vb_oYIS",
        "P_u5aC1iqy_n",
        "VKCmN6cPray6",
        "KIYWm_Ugu14Q",
        "0PIGuc4OB2DT",
        "SvDW2cu2vHB5",
        "DazQN_Z_3Trt",
        "hHZ4bgxP3c_A",
        "X5JK0f_QVRto",
        "LbACV-sLWJsE",
        "KpTUnhDeY2Nw"
      ],
      "mount_file_id": "1aoLSvVVqtDl4tR1x6YbZsqHx5IDhDBMf",
      "authorship_tag": "ABX9TyN0PTxDpyEW1QaopW7V++UY",
      "include_colab_link": true
    },
    "kernelspec": {
      "name": "python3",
      "display_name": "Python 3"
    },
    "language_info": {
      "name": "python"
    }
  },
  "cells": [
    {
      "cell_type": "markdown",
      "metadata": {
        "id": "view-in-github",
        "colab_type": "text"
      },
      "source": [
        "<a href=\"https://colab.research.google.com/github/HarishGarampalle/Assignment2/blob/main/HandWritten_Recognition_Models.ipynb\" target=\"_parent\"><img src=\"https://colab.research.google.com/assets/colab-badge.svg\" alt=\"Open In Colab\"/></a>"
      ]
    },
    {
      "cell_type": "markdown",
      "source": [
        "#Hand Written Digits Recognition Models"
      ],
      "metadata": {
        "id": "0NCQN7xWDE7V"
      }
    },
    {
      "cell_type": "markdown",
      "source": [
        "##Importing Standard Libraries"
      ],
      "metadata": {
        "id": "7RTo03Bej2_C"
      }
    },
    {
      "cell_type": "code",
      "execution_count": null,
      "metadata": {
        "id": "6JInBlScUS_v"
      },
      "outputs": [],
      "source": [
        "import numpy as np\n",
        "import pandas as pd\n",
        "import matplotlib.pyplot as plt\n",
        "from scipy.stats import multivariate_normal as mvn\n",
        "import seaborn as sns"
      ]
    },
    {
      "cell_type": "markdown",
      "source": [
        "##Loading the MNIST Training Dataset"
      ],
      "metadata": {
        "id": "bq1Wq3o-k5ow"
      }
    },
    {
      "cell_type": "code",
      "source": [
        "Mnist_train_data = pd.read_csv('/content/drive/MyDrive/ITC Data Science/Data Science Training/Input_Data/MNIST_train.csv')"
      ],
      "metadata": {
        "id": "k3cfpfbUZklV"
      },
      "execution_count": null,
      "outputs": []
    },
    {
      "cell_type": "code",
      "source": [
        "Mnist_train_data.shape"
      ],
      "metadata": {
        "colab": {
          "base_uri": "https://localhost:8080/"
        },
        "id": "UYq1Ls_AZkn9",
        "outputId": "7848226c-1f78-423a-d0e1-1933f57445d2"
      },
      "execution_count": null,
      "outputs": [
        {
          "output_type": "execute_result",
          "data": {
            "text/plain": [
              "(60000, 787)"
            ]
          },
          "metadata": {},
          "execution_count": 3
        }
      ]
    },
    {
      "cell_type": "code",
      "source": [
        "Mnist_train_data = Mnist_train_data.iloc[:,2:]"
      ],
      "metadata": {
        "id": "u6HgOzEPZktO"
      },
      "execution_count": null,
      "outputs": []
    },
    {
      "cell_type": "code",
      "source": [
        "Mnist_train_data.shape"
      ],
      "metadata": {
        "colab": {
          "base_uri": "https://localhost:8080/"
        },
        "id": "Io6yk1lrZkvz",
        "outputId": "a7d939b7-9a48-4c15-85db-74ca8be5ff4a"
      },
      "execution_count": null,
      "outputs": [
        {
          "output_type": "execute_result",
          "data": {
            "text/plain": [
              "(60000, 785)"
            ]
          },
          "metadata": {},
          "execution_count": 5
        }
      ]
    },
    {
      "cell_type": "code",
      "source": [
        "XY_train=Mnist_train_data.to_numpy()"
      ],
      "metadata": {
        "id": "NWljDrL2Zkyi"
      },
      "execution_count": null,
      "outputs": []
    },
    {
      "cell_type": "code",
      "source": [
        "XY_train"
      ],
      "metadata": {
        "colab": {
          "base_uri": "https://localhost:8080/"
        },
        "id": "DCZfUL2OZk1L",
        "outputId": "e731de18-3a97-469f-f580-e1d38d2d0d45"
      },
      "execution_count": null,
      "outputs": [
        {
          "output_type": "execute_result",
          "data": {
            "text/plain": [
              "array([[5, 0, 0, ..., 0, 0, 0],\n",
              "       [0, 0, 0, ..., 0, 0, 0],\n",
              "       [4, 0, 0, ..., 0, 0, 0],\n",
              "       ...,\n",
              "       [5, 0, 0, ..., 0, 0, 0],\n",
              "       [6, 0, 0, ..., 0, 0, 0],\n",
              "       [8, 0, 0, ..., 0, 0, 0]])"
            ]
          },
          "metadata": {},
          "execution_count": 7
        }
      ]
    },
    {
      "cell_type": "code",
      "source": [
        "XY_train.shape"
      ],
      "metadata": {
        "colab": {
          "base_uri": "https://localhost:8080/"
        },
        "id": "o8jKQfC8eKLi",
        "outputId": "b33801d0-8cf7-4415-f2e5-f3731c522383"
      },
      "execution_count": null,
      "outputs": [
        {
          "output_type": "execute_result",
          "data": {
            "text/plain": [
              "(60000, 785)"
            ]
          },
          "metadata": {},
          "execution_count": 8
        }
      ]
    },
    {
      "cell_type": "code",
      "source": [
        "X_train=XY_train[:,1:]"
      ],
      "metadata": {
        "id": "nmU4v4FZoEbH"
      },
      "execution_count": null,
      "outputs": []
    },
    {
      "cell_type": "code",
      "source": [
        "X_train"
      ],
      "metadata": {
        "colab": {
          "base_uri": "https://localhost:8080/"
        },
        "id": "fwS7pD_zoEXc",
        "outputId": "9e6e0e16-b3eb-49fa-c7a4-bacc69df03f7"
      },
      "execution_count": null,
      "outputs": [
        {
          "output_type": "execute_result",
          "data": {
            "text/plain": [
              "array([[0, 0, 0, ..., 0, 0, 0],\n",
              "       [0, 0, 0, ..., 0, 0, 0],\n",
              "       [0, 0, 0, ..., 0, 0, 0],\n",
              "       ...,\n",
              "       [0, 0, 0, ..., 0, 0, 0],\n",
              "       [0, 0, 0, ..., 0, 0, 0],\n",
              "       [0, 0, 0, ..., 0, 0, 0]])"
            ]
          },
          "metadata": {},
          "execution_count": 10
        }
      ]
    },
    {
      "cell_type": "code",
      "source": [
        "Y_train=XY_train[:,0]"
      ],
      "metadata": {
        "id": "Vga9xpuHZk3f"
      },
      "execution_count": null,
      "outputs": []
    },
    {
      "cell_type": "code",
      "source": [
        "Y_train"
      ],
      "metadata": {
        "colab": {
          "base_uri": "https://localhost:8080/"
        },
        "id": "8p5Ir3rgZk54",
        "outputId": "2eecd0f1-f881-495a-cfd4-b2b50f427ef6"
      },
      "execution_count": null,
      "outputs": [
        {
          "output_type": "execute_result",
          "data": {
            "text/plain": [
              "array([5, 0, 4, ..., 5, 6, 8])"
            ]
          },
          "metadata": {},
          "execution_count": 12
        }
      ]
    },
    {
      "cell_type": "code",
      "source": [
        "X_train.shape"
      ],
      "metadata": {
        "colab": {
          "base_uri": "https://localhost:8080/"
        },
        "id": "CzEx4-kbe48R",
        "outputId": "33ed4919-7884-4273-b0ae-ff7ac0134655"
      },
      "execution_count": null,
      "outputs": [
        {
          "output_type": "execute_result",
          "data": {
            "text/plain": [
              "(60000, 784)"
            ]
          },
          "metadata": {},
          "execution_count": 13
        }
      ]
    },
    {
      "cell_type": "code",
      "source": [
        "# plt.figure()\n",
        "# plt.hist(X_train, bins=30)\n",
        "# plt.legend()"
      ],
      "metadata": {
        "id": "xZbIe2n2e4_o"
      },
      "execution_count": null,
      "outputs": []
    },
    {
      "cell_type": "code",
      "source": [
        "# plt.figure()\n",
        "# plt.hist(y, bins=20)\n",
        "# plt.legend()"
      ],
      "metadata": {
        "id": "5urdbrg-g0g6"
      },
      "execution_count": null,
      "outputs": []
    },
    {
      "cell_type": "markdown",
      "source": [
        "##Loading the MNIST Testing Dataset"
      ],
      "metadata": {
        "id": "VgsBiC47pGRl"
      }
    },
    {
      "cell_type": "code",
      "source": [
        "Mnist_test_data = pd.read_csv('/content/drive/MyDrive/ITC Data Science/Data Science Training/Input_Data/MNIST_test.csv')"
      ],
      "metadata": {
        "id": "FnyIUz_pplZ1"
      },
      "execution_count": null,
      "outputs": []
    },
    {
      "cell_type": "code",
      "source": [
        "Mnist_test_data.shape"
      ],
      "metadata": {
        "colab": {
          "base_uri": "https://localhost:8080/"
        },
        "outputId": "ba2c0a42-5796-472a-972f-16f367429f56",
        "id": "z3swatlqplZ2"
      },
      "execution_count": null,
      "outputs": [
        {
          "output_type": "execute_result",
          "data": {
            "text/plain": [
              "(10000, 787)"
            ]
          },
          "metadata": {},
          "execution_count": 17
        }
      ]
    },
    {
      "cell_type": "code",
      "source": [
        "XY_test = Mnist_test_data.iloc[:,2:]"
      ],
      "metadata": {
        "id": "FBBAUy3KplZ2"
      },
      "execution_count": null,
      "outputs": []
    },
    {
      "cell_type": "code",
      "source": [
        "XY_test=XY_test.to_numpy()"
      ],
      "metadata": {
        "id": "uLe1IICEplZ2"
      },
      "execution_count": null,
      "outputs": []
    },
    {
      "cell_type": "code",
      "source": [
        "XY_test"
      ],
      "metadata": {
        "colab": {
          "base_uri": "https://localhost:8080/"
        },
        "outputId": "b7ad94b5-5f2e-4eee-aa71-9871da84fc1e",
        "id": "0Mvk-QolplZ3"
      },
      "execution_count": null,
      "outputs": [
        {
          "output_type": "execute_result",
          "data": {
            "text/plain": [
              "array([[7, 0, 0, ..., 0, 0, 0],\n",
              "       [2, 0, 0, ..., 0, 0, 0],\n",
              "       [1, 0, 0, ..., 0, 0, 0],\n",
              "       ...,\n",
              "       [4, 0, 0, ..., 0, 0, 0],\n",
              "       [5, 0, 0, ..., 0, 0, 0],\n",
              "       [6, 0, 0, ..., 0, 0, 0]])"
            ]
          },
          "metadata": {},
          "execution_count": 20
        }
      ]
    },
    {
      "cell_type": "code",
      "source": [
        "XY_test.shape"
      ],
      "metadata": {
        "colab": {
          "base_uri": "https://localhost:8080/"
        },
        "outputId": "6343dfd9-449d-40b5-dc66-408d6b58a3e7",
        "id": "pmvQHmORplZ3"
      },
      "execution_count": null,
      "outputs": [
        {
          "output_type": "execute_result",
          "data": {
            "text/plain": [
              "(10000, 785)"
            ]
          },
          "metadata": {},
          "execution_count": 21
        }
      ]
    },
    {
      "cell_type": "code",
      "source": [
        "X_test=XY_test[:,1:]"
      ],
      "metadata": {
        "id": "B0apr0hjqSw2"
      },
      "execution_count": null,
      "outputs": []
    },
    {
      "cell_type": "code",
      "source": [
        "X_test.shape"
      ],
      "metadata": {
        "colab": {
          "base_uri": "https://localhost:8080/"
        },
        "id": "dIjBGyeyqScH",
        "outputId": "cf47cf9f-3d12-41a1-c8a0-529b66c8bed9"
      },
      "execution_count": null,
      "outputs": [
        {
          "output_type": "execute_result",
          "data": {
            "text/plain": [
              "(10000, 784)"
            ]
          },
          "metadata": {},
          "execution_count": 23
        }
      ]
    },
    {
      "cell_type": "code",
      "source": [
        "Y_test=XY_test[:,0]"
      ],
      "metadata": {
        "id": "EG6ekj-9plZ3"
      },
      "execution_count": null,
      "outputs": []
    },
    {
      "cell_type": "code",
      "source": [
        "Y_test"
      ],
      "metadata": {
        "colab": {
          "base_uri": "https://localhost:8080/"
        },
        "outputId": "7d015bb8-c8de-4eb9-e597-a85cd7bd638b",
        "id": "POjGxKGdplZ3"
      },
      "execution_count": null,
      "outputs": [
        {
          "output_type": "execute_result",
          "data": {
            "text/plain": [
              "array([7, 2, 1, ..., 4, 5, 6])"
            ]
          },
          "metadata": {},
          "execution_count": 25
        }
      ]
    },
    {
      "cell_type": "code",
      "source": [
        "Y_test.shape"
      ],
      "metadata": {
        "colab": {
          "base_uri": "https://localhost:8080/"
        },
        "outputId": "bc8b7304-089a-46f7-a038-b158f4ffad25",
        "id": "tRe1dy3uplZ3"
      },
      "execution_count": null,
      "outputs": [
        {
          "output_type": "execute_result",
          "data": {
            "text/plain": [
              "(10000,)"
            ]
          },
          "metadata": {},
          "execution_count": 26
        }
      ]
    },
    {
      "cell_type": "markdown",
      "source": [
        "#Normalising Dataset"
      ],
      "metadata": {
        "id": "uRCOcsOiozEV"
      }
    },
    {
      "cell_type": "markdown",
      "source": [
        "##Normalise MNIST Train Data"
      ],
      "metadata": {
        "id": "DpEK0Vb_oYIS"
      }
    },
    {
      "cell_type": "code",
      "source": [
        "X_train_norm = X_train / 255.0"
      ],
      "metadata": {
        "id": "T5TyMx8AohY7"
      },
      "execution_count": null,
      "outputs": []
    },
    {
      "cell_type": "code",
      "source": [
        "X_train_norm"
      ],
      "metadata": {
        "id": "PqD9AAbve5Ch",
        "colab": {
          "base_uri": "https://localhost:8080/"
        },
        "outputId": "e686c31a-b09b-4ec1-ce0b-9b09c0431f3a"
      },
      "execution_count": null,
      "outputs": [
        {
          "output_type": "execute_result",
          "data": {
            "text/plain": [
              "array([[0., 0., 0., ..., 0., 0., 0.],\n",
              "       [0., 0., 0., ..., 0., 0., 0.],\n",
              "       [0., 0., 0., ..., 0., 0., 0.],\n",
              "       ...,\n",
              "       [0., 0., 0., ..., 0., 0., 0.],\n",
              "       [0., 0., 0., ..., 0., 0., 0.],\n",
              "       [0., 0., 0., ..., 0., 0., 0.]])"
            ]
          },
          "metadata": {},
          "execution_count": 28
        }
      ]
    },
    {
      "cell_type": "code",
      "source": [
        "X_train"
      ],
      "metadata": {
        "id": "-byia1eaMUcN"
      },
      "execution_count": null,
      "outputs": []
    },
    {
      "cell_type": "markdown",
      "source": [
        "##Normalise MNIST Test Data"
      ],
      "metadata": {
        "id": "P_u5aC1iqy_n"
      }
    },
    {
      "cell_type": "code",
      "source": [
        "X_test_norm = X_test/255.0"
      ],
      "metadata": {
        "id": "Mpo_knbsq6Cb"
      },
      "execution_count": null,
      "outputs": []
    },
    {
      "cell_type": "code",
      "source": [
        "X_test_norm"
      ],
      "metadata": {
        "id": "eThG1fEcq5-8",
        "colab": {
          "base_uri": "https://localhost:8080/"
        },
        "outputId": "6e7ef1d6-50d2-48d2-9cc6-7f5078ad9b07"
      },
      "execution_count": null,
      "outputs": [
        {
          "output_type": "execute_result",
          "data": {
            "text/plain": [
              "array([[0., 0., 0., ..., 0., 0., 0.],\n",
              "       [0., 0., 0., ..., 0., 0., 0.],\n",
              "       [0., 0., 0., ..., 0., 0., 0.],\n",
              "       ...,\n",
              "       [0., 0., 0., ..., 0., 0., 0.],\n",
              "       [0., 0., 0., ..., 0., 0., 0.],\n",
              "       [0., 0., 0., ..., 0., 0., 0.]])"
            ]
          },
          "metadata": {},
          "execution_count": 31
        }
      ]
    },
    {
      "cell_type": "code",
      "source": [],
      "metadata": {
        "id": "bwf7u5nIMdk9"
      },
      "execution_count": null,
      "outputs": []
    },
    {
      "cell_type": "markdown",
      "source": [
        "#Classification Models"
      ],
      "metadata": {
        "id": "eM7iePMPrOEs"
      }
    },
    {
      "cell_type": "markdown",
      "source": [
        "##Naive Bayes Model"
      ],
      "metadata": {
        "id": "VKCmN6cPray6"
      }
    },
    {
      "cell_type": "code",
      "source": [
        "class GaussNB():\n",
        "    def fit(self, x, y, epsilon=1e-3):\n",
        "        self.likelihoods = dict()\n",
        "        self.priors = dict()\n",
        "        self.K = set(y.astype(int))\n",
        "\n",
        "        for k in self.K:\n",
        "            x_k = x[y == k, :]\n",
        "            self.likelihoods[k] = {\n",
        "                \"mean\": x_k.mean(axis=0),\n",
        "                \"cov\": x_k.var(axis=0) + epsilon\n",
        "            }\n",
        "            self.priors[k] = len(x_k) / len(x)\n",
        "\n",
        "    def predict(self, x):\n",
        "        N, D = x.shape\n",
        "        p_hat = np.zeros((N, len(self.K)))\n",
        "\n",
        "        for k, l in self.likelihoods.items():\n",
        "            p_hat[:, k] = mvn.logpdf(x, l[\"mean\"], l[\"cov\"]) + np.log(self.priors[k])\n",
        "\n",
        "        return p_hat.argmax(axis=1)"
      ],
      "metadata": {
        "id": "ovV-mkbIn_To"
      },
      "execution_count": null,
      "outputs": []
    },
    {
      "cell_type": "code",
      "source": [
        "X_train.min(), X_train.max(), len(X_train), X_train.shape"
      ],
      "metadata": {
        "colab": {
          "base_uri": "https://localhost:8080/"
        },
        "id": "dP0zR2Txt2UH",
        "outputId": "150a150f-e79e-49d1-f952-9553f15d4a36"
      },
      "execution_count": null,
      "outputs": [
        {
          "output_type": "execute_result",
          "data": {
            "text/plain": [
              "(0.0, 1.0, 60000, (60000, 784))"
            ]
          },
          "metadata": {},
          "execution_count": 111
        }
      ]
    },
    {
      "cell_type": "markdown",
      "source": [
        "##Training Naive Bayes Model"
      ],
      "metadata": {
        "id": "KIYWm_Ugu14Q"
      }
    },
    {
      "cell_type": "code",
      "source": [
        "hwr_NB = GaussNB()"
      ],
      "metadata": {
        "id": "Ct6Rm5mxn_Wg"
      },
      "execution_count": null,
      "outputs": []
    },
    {
      "cell_type": "code",
      "source": [
        "hwr_NB.fit(X_train,Y_train,epsilon=1.1e-2)"
      ],
      "metadata": {
        "id": "b_haH0R_n_ZE"
      },
      "execution_count": null,
      "outputs": []
    },
    {
      "cell_type": "code",
      "source": [
        "def accuracy(Y_train,Yhat_train):\n",
        "  return np.mean(Y_train==Yhat_train)"
      ],
      "metadata": {
        "id": "IqC41p2NefZz"
      },
      "execution_count": null,
      "outputs": []
    },
    {
      "cell_type": "code",
      "source": [
        "Yhat_train = hwr_NB.predict(X_train)"
      ],
      "metadata": {
        "id": "TUqj0uDTefhI"
      },
      "execution_count": null,
      "outputs": []
    },
    {
      "cell_type": "code",
      "source": [
        "print('Training Accuracy of Naive Bayes Model:')\n",
        "accuracy(Y_train,Yhat_train)"
      ],
      "metadata": {
        "id": "aSsLwB2yoa4G",
        "outputId": "b352536f-b2e3-4ef9-9660-fc625c16fe7f",
        "colab": {
          "base_uri": "https://localhost:8080/"
        }
      },
      "execution_count": null,
      "outputs": [
        {
          "output_type": "stream",
          "name": "stdout",
          "text": [
            "Training Accuracy of Naive Bayes Model:\n"
          ]
        },
        {
          "output_type": "execute_result",
          "data": {
            "text/plain": [
              "0.8020166666666667"
            ]
          },
          "metadata": {},
          "execution_count": 116
        }
      ]
    },
    {
      "cell_type": "code",
      "source": [
        "print('Confusion matrix for Normalised Training Data - Naive Bayes')\n",
        "plt.figure(figsize=(10,7))\n",
        "y_actu = pd.Series(Y_train, name='Actual')\n",
        "y_pred = pd.Series(Yhat_train, name='Predicted')\n",
        "cm = pd.crosstab(y_actu, y_pred)\n",
        "ax = sns.heatmap(cm, annot=True, fmt=\"d\")\n",
        "plt.ylabel('True label')\n",
        "plt.xlabel('Predicted label')"
      ],
      "metadata": {
        "colab": {
          "base_uri": "https://localhost:8080/",
          "height": 654
        },
        "id": "IiTebt-9Q22G",
        "outputId": "d0947e54-ae90-47c5-b158-ab2d384571a1"
      },
      "execution_count": null,
      "outputs": [
        {
          "output_type": "stream",
          "name": "stdout",
          "text": [
            "Confusion matrix for Normalised Training Data - Naive Bayes\n"
          ]
        },
        {
          "output_type": "execute_result",
          "data": {
            "text/plain": [
              "Text(0.5, 47.7222222222222, 'Predicted label')"
            ]
          },
          "metadata": {},
          "execution_count": 117
        },
        {
          "output_type": "display_data",
          "data": {
            "text/plain": [
              "<Figure size 1000x700 with 2 Axes>"
            ],
            "image/png": "[encoded data removed]"
          },
          "metadata": {}
        }
      ]
    },
    {
      "cell_type": "code",
      "source": [],
      "metadata": {
        "id": "XjnmT1OAQ2y3"
      },
      "execution_count": null,
      "outputs": []
    },
    {
      "cell_type": "markdown",
      "source": [
        "## Non Naive Bayes Model"
      ],
      "metadata": {
        "id": "0PIGuc4OB2DT"
      }
    },
    {
      "cell_type": "code",
      "source": [
        "class GaussBayes():\n",
        "  def fit(self, x, y, epsilon =1e-3):\n",
        "    self.likelihoods = dict()\n",
        "    self.priors = dict()\n",
        "    self.K = set(y.astype(int))\n",
        "\n",
        "    for k in self.K:\n",
        "      x_k = x[y==k,:]\n",
        "      N_k,D = x_k.shape\n",
        "      mu_k = x_k.mean(axis=0)\n",
        "\n",
        "      self.likelihoods[k] = {\"mean\": x_k.mean(axis=0),\n",
        "                             \"cov\":(1/(N_k-1))*np.matmul((x_k-mu_k).T,x_k-mu_k)+epsilon*np.identity(D)}\n",
        "\n",
        "      self.priors[k]=len(x_k)/len(x)\n",
        "  def predict(self, x):\n",
        "    N,D = x.shape\n",
        "    p_hat = np.zeros((N, len(self.K)))\n",
        "\n",
        "    for k, l in self.likelihoods.items():\n",
        "      p_hat[:, k] = mvn.logpdf(x, l[\"mean\"],l[\"cov\"])+np.log(self.priors[k])\n",
        "    return p_hat.argmax(axis=1)\n"
      ],
      "metadata": {
        "id": "EMH_Hs-1F8ZP"
      },
      "execution_count": null,
      "outputs": []
    },
    {
      "cell_type": "markdown",
      "source": [
        "##Training Non Naive Bayes Model"
      ],
      "metadata": {
        "id": "SvDW2cu2vHB5"
      }
    },
    {
      "cell_type": "code",
      "source": [
        "hwr_NonNB = GaussBayes()"
      ],
      "metadata": {
        "id": "VeENfo66F8c5"
      },
      "execution_count": null,
      "outputs": []
    },
    {
      "cell_type": "code",
      "source": [
        "hwr_NonNB.fit(X_train,Y_train, epsilon=1.1e-2)"
      ],
      "metadata": {
        "id": "-O3ADfNjF8gY"
      },
      "execution_count": null,
      "outputs": []
    },
    {
      "cell_type": "code",
      "source": [
        "Yhat_train=hwr_NonNB.predict(X_train)"
      ],
      "metadata": {
        "id": "UKexr4JtF8rl"
      },
      "execution_count": null,
      "outputs": []
    },
    {
      "cell_type": "code",
      "source": [
        "print('Training Accuracy of Non Naive Bayes Model:')\n",
        "accuracy(Y_train,Yhat_train)"
      ],
      "metadata": {
        "colab": {
          "base_uri": "https://localhost:8080/"
        },
        "id": "7NiIe-wwrf34",
        "outputId": "db317eeb-0e49-4b3a-ba30-e694a6f50800"
      },
      "execution_count": null,
      "outputs": [
        {
          "output_type": "stream",
          "name": "stdout",
          "text": [
            "Training Accuracy of Non Naive Bayes Model:\n"
          ]
        },
        {
          "output_type": "execute_result",
          "data": {
            "text/plain": [
              "0.9561"
            ]
          },
          "metadata": {},
          "execution_count": 122
        }
      ]
    },
    {
      "cell_type": "code",
      "source": [
        "print('Confusion matrix for Normalised Training Data - Non Naive Bayes')\n",
        "plt.figure(figsize=(10,7))\n",
        "y_actu = pd.Series(Y_train, name='Actual')\n",
        "y_pred = pd.Series(Yhat_train, name='Predicted')\n",
        "cm = pd.crosstab(y_actu, y_pred)\n",
        "ax = sns.heatmap(cm, annot=True, fmt=\"d\")\n",
        "plt.ylabel('True label')\n",
        "plt.xlabel('Predicted label')"
      ],
      "metadata": {
        "id": "jq0bMDh5JVDm",
        "colab": {
          "base_uri": "https://localhost:8080/",
          "height": 654
        },
        "outputId": "5b3ac9e7-7b0e-4f8d-d2ee-63ba48391cf8"
      },
      "execution_count": null,
      "outputs": [
        {
          "output_type": "stream",
          "name": "stdout",
          "text": [
            "Confusion matrix for Normalised Training Data - Non Naive Bayes\n"
          ]
        },
        {
          "output_type": "execute_result",
          "data": {
            "text/plain": [
              "Text(0.5, 47.7222222222222, 'Predicted label')"
            ]
          },
          "metadata": {},
          "execution_count": 123
        },
        {
          "output_type": "display_data",
          "data": {
            "text/plain": [
              "<Figure size 1000x700 with 2 Axes>"
            ],
            "image/png": "[encoded data removed]"
          },
          "metadata": {}
        }
      ]
    },
    {
      "cell_type": "code",
      "source": [],
      "metadata": {
        "id": "Mn1g28-sJU_P"
      },
      "execution_count": null,
      "outputs": []
    },
    {
      "cell_type": "code",
      "source": [
        "#plt.figure(figsize=(10,6))\n",
        "#plt.scatter(X[:,0],X[:,1],c=y_hat2_gbayes, alpha=0.55, s=10)"
      ],
      "metadata": {
        "id": "fOoeAuFdrgB_"
      },
      "execution_count": null,
      "outputs": []
    },
    {
      "cell_type": "markdown",
      "source": [
        "#Testing with MNIST Dataset"
      ],
      "metadata": {
        "id": "9BWLxkxAujUb"
      }
    },
    {
      "cell_type": "markdown",
      "source": [
        "##Testing using Naive Bayes"
      ],
      "metadata": {
        "id": "DazQN_Z_3Trt"
      }
    },
    {
      "cell_type": "code",
      "source": [
        "X_test.shape, X_test.min(), X_test.max()"
      ],
      "metadata": {
        "colab": {
          "base_uri": "https://localhost:8080/"
        },
        "id": "oqQ7AzqTN2NV",
        "outputId": "47e953ba-8789-4e2f-9ce4-1073dbd11918"
      },
      "execution_count": null,
      "outputs": [
        {
          "output_type": "execute_result",
          "data": {
            "text/plain": [
              "((10000, 784), 0, 255)"
            ]
          },
          "metadata": {},
          "execution_count": 125
        }
      ]
    },
    {
      "cell_type": "code",
      "source": [
        "Yhat_test=hwr_NB.predict(X_test)"
      ],
      "metadata": {
        "id": "Br7ghQ0y2krC"
      },
      "execution_count": null,
      "outputs": []
    },
    {
      "cell_type": "code",
      "source": [
        "def accuracy(Y_test,Yhat_test):\n",
        "  return np.mean(Y_test==Yhat_test)"
      ],
      "metadata": {
        "id": "JhK1SzD63GCZ"
      },
      "execution_count": null,
      "outputs": []
    },
    {
      "cell_type": "code",
      "source": [
        "Y_test.shape,Yhat_test.shape"
      ],
      "metadata": {
        "id": "42IB_CVAegGt",
        "colab": {
          "base_uri": "https://localhost:8080/"
        },
        "outputId": "c8fc8524-6ef5-4850-da65-c487f3773d25"
      },
      "execution_count": null,
      "outputs": [
        {
          "output_type": "execute_result",
          "data": {
            "text/plain": [
              "((10000,), (10000,))"
            ]
          },
          "metadata": {},
          "execution_count": 47
        }
      ]
    },
    {
      "cell_type": "code",
      "source": [
        "print('Testing Accuracy of Navie Bayes Model:')\n",
        "accuracy(Y_test,Yhat_test)"
      ],
      "metadata": {
        "colab": {
          "base_uri": "https://localhost:8080/"
        },
        "id": "sIMry47x3GFm",
        "outputId": "6a5f98b7-bb70-43db-d23d-2ababf4ba123"
      },
      "execution_count": null,
      "outputs": [
        {
          "output_type": "stream",
          "name": "stdout",
          "text": [
            "Testing Accuracy of Navie Bayes Model:\n"
          ]
        },
        {
          "output_type": "execute_result",
          "data": {
            "text/plain": [
              "0.6135"
            ]
          },
          "metadata": {},
          "execution_count": 48
        }
      ]
    },
    {
      "cell_type": "code",
      "source": [
        "#plt.figure(figsize=(10,6))\n",
        "#plt.scatter(x_test[:,0],x_test[:,1],c=y_test_hat, alpha=0.55, s=10)"
      ],
      "metadata": {
        "id": "b21PNDKZbt05"
      },
      "execution_count": null,
      "outputs": []
    },
    {
      "cell_type": "code",
      "source": [
        "plt.figure(figsize=(10,7))\n",
        "y_actu = pd.Series(Y_test name='Actual')\n",
        "y_pred = pd.Series(Yhat_test, name='Predicted')\n",
        "cm = pd.crosstab(y_actu, y_pred)\n",
        "ax = sns.heatmap(cm, annot=True, fmt=\"d\")\n",
        "plt.ylabel('True label')\n",
        "plt.xlabel('Predicted label')"
      ],
      "metadata": {
        "id": "c3pgGCPlbt4Q"
      },
      "execution_count": null,
      "outputs": []
    },
    {
      "cell_type": "markdown",
      "source": [
        "##Testing using Non Naive Bayes"
      ],
      "metadata": {
        "id": "hHZ4bgxP3c_A"
      }
    },
    {
      "cell_type": "code",
      "source": [
        "Yhat_test=hwr_NonNB.predict(X_test)"
      ],
      "metadata": {
        "id": "0jnsk6gGy2AQ"
      },
      "execution_count": null,
      "outputs": []
    },
    {
      "cell_type": "code",
      "source": [
        "def accuracy(Y_test,Yhat_test):\n",
        "  return np.mean(Y_test==Yhat_test)"
      ],
      "metadata": {
        "id": "iKQCOEOK0mqZ"
      },
      "execution_count": null,
      "outputs": []
    },
    {
      "cell_type": "code",
      "source": [
        "print('Testing Accuracy of Non Naive Bayes Model:')\n",
        "accuracy(Y_test,Yhat_test)"
      ],
      "metadata": {
        "colab": {
          "base_uri": "https://localhost:8080/"
        },
        "id": "XBuer8Qey2DV",
        "outputId": "143a79fb-b3aa-46d6-fb5f-dc43a9c3f4f5"
      },
      "execution_count": null,
      "outputs": [
        {
          "output_type": "stream",
          "name": "stdout",
          "text": [
            "Testing Accuracy of Non Navie Bayes Model:\n"
          ]
        },
        {
          "output_type": "execute_result",
          "data": {
            "text/plain": [
              "0.7824"
            ]
          },
          "metadata": {},
          "execution_count": 51
        }
      ]
    },
    {
      "cell_type": "code",
      "source": [],
      "metadata": {
        "id": "mEOai-XXLOaR"
      },
      "execution_count": null,
      "outputs": []
    },
    {
      "cell_type": "code",
      "source": [
        "plt.figure(figsize=(10,7))\n",
        "y_actu = pd.Series(Y_test, name='Actual')\n",
        "y_pred = pd.Series(Yhat_test, name='Predicted')\n",
        "cm = pd.crosstab(y_actu, y_pred)\n",
        "ax = sns.heatmap(cm, annot=True, fmt=\"d\")\n",
        "plt.ylabel('True label')\n",
        "plt.xlabel('Predicted label')"
      ],
      "metadata": {
        "id": "zRtlErnKLNAO"
      },
      "execution_count": null,
      "outputs": []
    },
    {
      "cell_type": "markdown",
      "source": [
        "##Testing With Normalization"
      ],
      "metadata": {
        "id": "5cZQzYt-308p"
      }
    },
    {
      "cell_type": "markdown",
      "source": [
        "##Naive Bayes model Testing"
      ],
      "metadata": {
        "id": "X5JK0f_QVRto"
      }
    },
    {
      "cell_type": "code",
      "source": [
        "Yhat_test=hwr_NB.predict(X_test_norm)"
      ],
      "metadata": {
        "id": "eNMFpoOiOSCV"
      },
      "execution_count": null,
      "outputs": []
    },
    {
      "cell_type": "code",
      "source": [
        "def accuracy(Y_test,Yhat_test):\n",
        "  return np.mean(Y_test==Yhat_test)"
      ],
      "metadata": {
        "id": "QhfNz9QS18UH"
      },
      "execution_count": null,
      "outputs": []
    },
    {
      "cell_type": "code",
      "source": [
        "print('Testing Accuracy of Naive Bayes Model with normalisation:')\n",
        "accuracy(Y_test,Yhat_test)"
      ],
      "metadata": {
        "id": "i6SVjNnLy2KP",
        "colab": {
          "base_uri": "https://localhost:8080/"
        },
        "outputId": "dc14607c-a966-451c-8d4a-f817784c8985"
      },
      "execution_count": null,
      "outputs": [
        {
          "output_type": "stream",
          "name": "stdout",
          "text": [
            "Testing Accuracy of Naive Bayes Model with normalisation:\n"
          ]
        },
        {
          "output_type": "execute_result",
          "data": {
            "text/plain": [
              "0.8146"
            ]
          },
          "metadata": {},
          "execution_count": 129
        }
      ]
    },
    {
      "cell_type": "code",
      "source": [
        "\n",
        "print('Confusion matrix for Normalised Testing Data - Naive Bayes')\n",
        "plt.figure(figsize=(10,7))\n",
        "y_actu = pd.Series(Y_test, name='Actual')\n",
        "y_pred = pd.Series(Yhat_test, name='Predicted')\n",
        "cm = pd.crosstab(y_actu, y_pred)\n",
        "ax = sns.heatmap(cm, annot=True, fmt=\"d\")\n",
        "plt.ylabel('True label')\n",
        "plt.xlabel('Predicted label')"
      ],
      "metadata": {
        "colab": {
          "base_uri": "https://localhost:8080/",
          "height": 654
        },
        "id": "Kdupp5KLO7AG",
        "outputId": "4a100549-ffb0-4f53-a121-3f46bc0409e6"
      },
      "execution_count": null,
      "outputs": [
        {
          "output_type": "stream",
          "name": "stdout",
          "text": [
            "Confusion matrix for Normalised Testing Data - Naive Bayes\n"
          ]
        },
        {
          "output_type": "execute_result",
          "data": {
            "text/plain": [
              "Text(0.5, 47.7222222222222, 'Predicted label')"
            ]
          },
          "metadata": {},
          "execution_count": 130
        },
        {
          "output_type": "display_data",
          "data": {
            "text/plain": [
              "<Figure size 1000x700 with 2 Axes>"
            ],
            "image/png": "[encoded data removed]"
          },
          "metadata": {}
        }
      ]
    },
    {
      "cell_type": "markdown",
      "source": [
        "##Non Naive Bayes Model testing"
      ],
      "metadata": {
        "id": "LbACV-sLWJsE"
      }
    },
    {
      "cell_type": "code",
      "source": [
        "Yhat_test=hwr_NonNB.predict(X_test_norm)"
      ],
      "metadata": {
        "id": "z-rkDtuAyWRf"
      },
      "execution_count": null,
      "outputs": []
    },
    {
      "cell_type": "code",
      "source": [
        "def accuracy(Y_test,Yhat_test):\n",
        "  return np.mean(Y_test==Yhat_test)"
      ],
      "metadata": {
        "id": "Wr1sT72UyWOK"
      },
      "execution_count": null,
      "outputs": []
    },
    {
      "cell_type": "code",
      "source": [
        "print('Testing Accuracy of Non Naive Bayes Model with normalisation:')\n",
        "accuracy(Y_test,Yhat_test)"
      ],
      "metadata": {
        "id": "jhs1-5lyyWI5",
        "colab": {
          "base_uri": "https://localhost:8080/"
        },
        "outputId": "a90cb092-0bca-4eea-acbc-77355619cb02"
      },
      "execution_count": null,
      "outputs": [
        {
          "output_type": "stream",
          "name": "stdout",
          "text": [
            "Testing Accuracy of Non Naive Bayes Model with normalisation:\n"
          ]
        },
        {
          "output_type": "execute_result",
          "data": {
            "text/plain": [
              "0.9485"
            ]
          },
          "metadata": {},
          "execution_count": 133
        }
      ]
    },
    {
      "cell_type": "code",
      "source": [
        "print('Confusion matrix for Normalised Training Data - Non Naive Bayes')\n",
        "plt.figure(figsize=(10,7))\n",
        "y_actu = pd.Series(Y_test, name='Actual')\n",
        "y_pred = pd.Series(Yhat_test, name='Predicted')\n",
        "cm = pd.crosstab(y_actu, y_pred)\n",
        "ax = sns.heatmap(cm, annot=True, fmt=\"d\")\n",
        "plt.ylabel('True label')\n",
        "plt.xlabel('Predicted label')"
      ],
      "metadata": {
        "colab": {
          "base_uri": "https://localhost:8080/",
          "height": 654
        },
        "id": "KM4puRt0LbVX",
        "outputId": "a42e91bf-b341-4bcd-f89e-f752db31a89a"
      },
      "execution_count": null,
      "outputs": [
        {
          "output_type": "stream",
          "name": "stdout",
          "text": [
            "Confusion matrix for Normalised Training Data - Non Naive Bayes\n"
          ]
        },
        {
          "output_type": "execute_result",
          "data": {
            "text/plain": [
              "Text(0.5, 47.7222222222222, 'Predicted label')"
            ]
          },
          "metadata": {},
          "execution_count": 134
        },
        {
          "output_type": "display_data",
          "data": {
            "text/plain": [
              "<Figure size 1000x700 with 2 Axes>"
            ],
            "image/png": "[encoded data removed]"
          },
          "metadata": {}
        }
      ]
    },
    {
      "cell_type": "markdown",
      "source": [
        "#K Nearest Neighbours Classifier"
      ],
      "metadata": {
        "id": "18YtS-dTCJpe"
      }
    },
    {
      "cell_type": "code",
      "source": [
        "class KNNClassifier():\n",
        "  def fit(self, X,y):\n",
        "    self.X = X\n",
        "    self.y = y\n",
        "  def predict(self,X,K,epsilon = 1e-3):\n",
        "    N=len(X)\n",
        "    y_hat = np.zeros(N)\n",
        "    for i in range(N):\n",
        "      dist2 = np.sum((self.X-X[i])**2,axis = 1)\n",
        "      idxt = np.argsort(dist2)[:K]\n",
        "      gamma_k=1/(np.sqrt(dist2[idxt]+epsilon))\n",
        "      y_hat[i] = np.bincount(self.y[idxt],weights = gamma_k).argmax()\n",
        "    return y_hat"
      ],
      "metadata": {
        "id": "81hT8NZYC8-z"
      },
      "execution_count": null,
      "outputs": []
    },
    {
      "cell_type": "markdown",
      "source": [
        "##KNN Model training"
      ],
      "metadata": {
        "id": "wRwg1JUb7MzZ"
      }
    },
    {
      "cell_type": "code",
      "source": [
        "hwr_knn = KNNClassifier()"
      ],
      "metadata": {
        "id": "vpHS5ym_7PiX"
      },
      "execution_count": null,
      "outputs": []
    },
    {
      "cell_type": "code",
      "source": [
        "X_train.min(), X_train.max()"
      ],
      "metadata": {
        "colab": {
          "base_uri": "https://localhost:8080/"
        },
        "id": "NpAT9dRPbTr6",
        "outputId": "aebb2977-c977-459b-f743-49efd6efff19"
      },
      "execution_count": null,
      "outputs": [
        {
          "output_type": "execute_result",
          "data": {
            "text/plain": [
              "(0, 255)"
            ]
          },
          "metadata": {},
          "execution_count": 29
        }
      ]
    },
    {
      "cell_type": "code",
      "source": [
        "hwr_knn.fit(X_train,Y_train)"
      ],
      "metadata": {
        "id": "L3C15dJd7PwB"
      },
      "execution_count": null,
      "outputs": []
    },
    {
      "cell_type": "code",
      "source": [
        "Yhat_train = hwr_knn.predict(X_train, K=8)"
      ],
      "metadata": {
        "id": "cyWWNljJ7Psg"
      },
      "execution_count": null,
      "outputs": []
    },
    {
      "cell_type": "code",
      "source": [],
      "metadata": {
        "id": "1cIRTJL4ZsAB"
      },
      "execution_count": null,
      "outputs": []
    },
    {
      "cell_type": "code",
      "source": [
        "def accuracy(Y_train,Yhat_train):\n",
        "  return np.mean(Y_train==Yhat_train)"
      ],
      "metadata": {
        "id": "TMOeeE6Q7PoM"
      },
      "execution_count": null,
      "outputs": []
    },
    {
      "cell_type": "code",
      "source": [
        "print('Training Accuracy of KNN model with normalisation')\n",
        "accuracy(Y_train,Yhat_train)"
      ],
      "metadata": {
        "id": "r29RTu3V7qnK",
        "colab": {
          "base_uri": "https://localhost:8080/"
        },
        "outputId": "07d07595-7ece-4782-9c93-8df513b0083f"
      },
      "execution_count": null,
      "outputs": [
        {
          "output_type": "stream",
          "name": "stdout",
          "text": [
            "Training Accuracy of KNN model with normalisation\n"
          ]
        },
        {
          "output_type": "execute_result",
          "data": {
            "text/plain": [
              "1.0"
            ]
          },
          "metadata": {},
          "execution_count": 39
        }
      ]
    },
    {
      "cell_type": "code",
      "source": [
        "print('Training Accuracy of KNN model without normalisation')\n",
        "accuracy(Y_train,Yhat_train)"
      ],
      "metadata": {
        "id": "tJyWrEpzZw9s"
      },
      "execution_count": null,
      "outputs": []
    },
    {
      "cell_type": "code",
      "source": [
        "print('Confusion matrix for Training Data - KNN Model without normalisation')\n",
        "plt.figure(figsize=(10,7))\n",
        "y_actu = pd.Series(Y_train, name='Actual')\n",
        "y_pred = pd.Series(Yhat_train, name='Predicted')\n",
        "cm = pd.crosstab(y_actu, y_pred)\n",
        "ax = sns.heatmap(cm, annot=True, fmt=\"d\")\n",
        "plt.ylabel('True label')\n",
        "plt.xlabel('Predicted label')"
      ],
      "metadata": {
        "id": "cAjnvdd4Z33p"
      },
      "execution_count": null,
      "outputs": []
    },
    {
      "cell_type": "code",
      "source": [
        "print('Confusion matrix for Training Data - KNN Model')\n",
        "plt.figure(figsize=(10,7))\n",
        "y_actu = pd.Series(Y_train, name='Actual')\n",
        "y_pred = pd.Series(Yhat_train, name='Predicted')\n",
        "cm = pd.crosstab(y_actu, y_pred)\n",
        "ax = sns.heatmap(cm, annot=True, fmt=\"d\")\n",
        "plt.ylabel('True label')\n",
        "plt.xlabel('Predicted label')"
      ],
      "metadata": {
        "id": "ra-zqRS6X69Z",
        "colab": {
          "base_uri": "https://localhost:8080/",
          "height": 654
        },
        "outputId": "db71d3b3-d12f-4527-cd0c-c4bab4aa1107"
      },
      "execution_count": null,
      "outputs": [
        {
          "output_type": "stream",
          "name": "stdout",
          "text": [
            "Confusion matrix for Training Data - KNN Model\n"
          ]
        },
        {
          "output_type": "execute_result",
          "data": {
            "text/plain": [
              "Text(0.5, 47.7222222222222, 'Predicted label')"
            ]
          },
          "metadata": {},
          "execution_count": 42
        },
        {
          "output_type": "display_data",
          "data": {
            "text/plain": [
              "<Figure size 1000x700 with 2 Axes>"
            ],
            "image/png": "[encoded data removed]"
          },
          "metadata": {}
        }
      ]
    },
    {
      "cell_type": "code",
      "source": [],
      "metadata": {
        "id": "BkGetFhAX47F"
      },
      "execution_count": null,
      "outputs": []
    },
    {
      "cell_type": "markdown",
      "source": [
        "##KNN Model testing"
      ],
      "metadata": {
        "id": "35WrY_CAk275"
      }
    },
    {
      "cell_type": "code",
      "source": [
        "knn_instance = KNNClassifier()"
      ],
      "metadata": {
        "id": "93tX77oRoPOc"
      },
      "execution_count": null,
      "outputs": []
    },
    {
      "cell_type": "code",
      "source": [],
      "metadata": {
        "id": "epsBkNOBPiRL"
      },
      "execution_count": null,
      "outputs": []
    },
    {
      "cell_type": "code",
      "source": [
        "Yhat_test = hwr_knn.predict(X_test, K=8)"
      ],
      "metadata": {
        "id": "jItEyChVWnEP"
      },
      "execution_count": null,
      "outputs": []
    },
    {
      "cell_type": "code",
      "source": [
        "def accuracy(y_test,Yhat_test):\n",
        "  return np.mean(y_test==Yhat_test)"
      ],
      "metadata": {
        "id": "Ghw2a1h3dm8G"
      },
      "execution_count": null,
      "outputs": []
    },
    {
      "cell_type": "code",
      "source": [
        "print('Testing Accuracy of KNN model')\n",
        "accuracy(Y_test,Yhat_test)"
      ],
      "metadata": {
        "id": "etDlM2zBdm5K",
        "colab": {
          "base_uri": "https://localhost:8080/"
        },
        "outputId": "0daf54dd-264d-4a61-b682-796ef669a186"
      },
      "execution_count": null,
      "outputs": [
        {
          "output_type": "stream",
          "name": "stdout",
          "text": [
            "Testing Accuracy of KNN model\n"
          ]
        },
        {
          "output_type": "execute_result",
          "data": {
            "text/plain": [
              "0.9706"
            ]
          },
          "metadata": {},
          "execution_count": 51
        }
      ]
    },
    {
      "cell_type": "code",
      "source": [
        "print('Confusion matrix for Testing Data - KNN Model')\n",
        "plt.figure(figsize=(10,7))\n",
        "y_actu = pd.Series(Y_test, name='Actual')\n",
        "y_pred = pd.Series(Yhat_test, name='Predicted')\n",
        "cm = pd.crosstab(y_actu, y_pred)\n",
        "ax = sns.heatmap(cm, annot=True, fmt=\"d\")\n",
        "plt.ylabel('True label')\n",
        "plt.xlabel('Predicted label')"
      ],
      "metadata": {
        "id": "V5mdhs9Pdm2S",
        "colab": {
          "base_uri": "https://localhost:8080/",
          "height": 654
        },
        "outputId": "3b31f38e-b67a-4fbd-db7c-bd6ce1e0b17a"
      },
      "execution_count": null,
      "outputs": [
        {
          "output_type": "stream",
          "name": "stdout",
          "text": [
            "Confusion matrix for Testing Data - KNN Model\n"
          ]
        },
        {
          "output_type": "execute_result",
          "data": {
            "text/plain": [
              "Text(0.5, 47.7222222222222, 'Predicted label')"
            ]
          },
          "metadata": {},
          "execution_count": 52
        },
        {
          "output_type": "display_data",
          "data": {
            "text/plain": [
              "<Figure size 1000x700 with 2 Axes>"
            ],
            "image/png": "[encoded data removed]"
          },
          "metadata": {}
        }
      ]
    },
    {
      "cell_type": "code",
      "source": [
        "X_test.max()"
      ],
      "metadata": {
        "id": "JzLZ81Rxaikf"
      },
      "execution_count": null,
      "outputs": []
    },
    {
      "cell_type": "code",
      "source": [
        "print('Testing Accuracy of KNN model without normalisation')\n",
        "accuracy(Y_test,Yhat_test)"
      ],
      "metadata": {
        "id": "m6FC-yn6aQxE"
      },
      "execution_count": null,
      "outputs": []
    },
    {
      "cell_type": "code",
      "source": [
        "print('Confusion matrix for Testing Data - KNN Model without normalisation')\n",
        "plt.figure(figsize=(10,7))\n",
        "y_actu = pd.Series(Y_test, name='Actual')\n",
        "y_pred = pd.Series(Yhat_test, name='Predicted')\n",
        "cm = pd.crosstab(y_actu, y_pred)\n",
        "ax = sns.heatmap(cm, annot=True, fmt=\"d\")\n",
        "plt.ylabel('True label')\n",
        "plt.xlabel('Predicted label')"
      ],
      "metadata": {
        "id": "Qs5sqa4JaVwl"
      },
      "execution_count": null,
      "outputs": []
    },
    {
      "cell_type": "markdown",
      "source": [
        "#Practice Examples"
      ],
      "metadata": {
        "id": "KpTUnhDeY2Nw"
      }
    },
    {
      "cell_type": "code",
      "source": [
        "class my_object():\n",
        "  def load(self, a,b):\n",
        "    self.a=a\n",
        "    self.b=b\n",
        "    self.c=str(a)+str(b)\n",
        "  def process(self):\n",
        "    out = self.a+self.b\n",
        "    return out,c\n"
      ],
      "metadata": {
        "id": "H-fJnxZiYnHP"
      },
      "execution_count": null,
      "outputs": []
    },
    {
      "cell_type": "code",
      "source": [
        "this_variable = my_object()"
      ],
      "metadata": {
        "id": "H2QxROFGYnEf"
      },
      "execution_count": null,
      "outputs": []
    },
    {
      "cell_type": "code",
      "source": [
        "this_variable.load(25,\"twenty-five\")"
      ],
      "metadata": {
        "id": "22MXcuAXYnAB"
      },
      "execution_count": null,
      "outputs": []
    },
    {
      "cell_type": "code",
      "source": [
        "this_variable.c"
      ],
      "metadata": {
        "id": "VBK8Dno6brAF"
      },
      "execution_count": null,
      "outputs": []
    },
    {
      "cell_type": "code",
      "source": [
        "this_variable.process()"
      ],
      "metadata": {
        "id": "gXhRkcEgci4E"
      },
      "execution_count": null,
      "outputs": []
    },
    {
      "cell_type": "code",
      "source": [
        "this_variable.c"
      ],
      "metadata": {
        "id": "RK42oz58b66t"
      },
      "execution_count": null,
      "outputs": []
    },
    {
      "cell_type": "code",
      "source": [],
      "metadata": {
        "id": "p37IS3dGb60V"
      },
      "execution_count": null,
      "outputs": []
    },
    {
      "cell_type": "code",
      "source": [],
      "metadata": {
        "id": "qHBZiNNEb6xl"
      },
      "execution_count": null,
      "outputs": []
    },
    {
      "cell_type": "code",
      "source": [],
      "metadata": {
        "id": "IXkYaU-qb6uR"
      },
      "execution_count": null,
      "outputs": []
    }
  ]
}